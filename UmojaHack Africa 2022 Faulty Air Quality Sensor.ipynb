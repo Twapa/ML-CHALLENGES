{
  "nbformat": 4,
  "nbformat_minor": 0,
  "metadata": {
    "colab": {
      "name": "Untitled0.ipynb",
      "provenance": [],
      "collapsed_sections": []
    },
    "kernelspec": {
      "name": "python3",
      "display_name": "Python 3"
    },
    "language_info": {
      "name": "python"
    }
  },
  "cells": [
    {
      "cell_type": "markdown",
      "source": [
        " **UmojaHack Africa 2022: Faulty Air Quality Sensor Challenge\n",
        "By Twapa** \n",
        "\n",
        "\n",
        "Import libraries"
      ],
      "metadata": {
        "id": "aEkoqTo2AoeE"
      }
    },
    {
      "cell_type": "code",
      "source": [
        "from google.colab import drive\n",
        "import pandas as pd\n",
        "import missingno as mso\n",
        "from sklearn.model_selection import train_test_split\n",
        "\n",
        "from sklearn.tree import DecisionTreeClassifier\n",
        "from sklearn.neighbors import KNeighborsClassifier\n",
        "from sklearn.ensemble import RandomForestClassifier\n",
        "from sklearn.svm import SVC\n",
        "from sklearn.linear_model import LogisticRegression\n",
        "from sklearn.linear_model import LogisticRegressionCV\n",
        "from imblearn.under_sampling import RandomUnderSampler\n",
        "import matplotlib.pyplot as plt\n",
        "\n",
        "\n",
        "pd.options.display.float_format = '{:.5f}'.format\n"
      ],
      "metadata": {
        "id": "IYTmNB4WAwqb"
      },
      "execution_count": null,
      "outputs": []
    },
    {
      "cell_type": "code",
      "source": [
        "drive.mount('/content/drive')\n"
      ],
      "metadata": {
        "colab": {
          "base_uri": "https://localhost:8080/"
        },
        "id": "V_p5mXKMB4p5",
        "outputId": "ebb4e866-a791-46c3-e2f3-dc5efc7f0d14"
      },
      "execution_count": null,
      "outputs": [
        {
          "output_type": "stream",
          "name": "stdout",
          "text": [
            "Drive already mounted at /content/drive; to attempt to forcibly remount, call drive.mount(\"/content/drive\", force_remount=True).\n"
          ]
        }
      ]
    },
    {
      "cell_type": "code",
      "source": [
        "traindata = pd.read_csv('/content/drive/MyDrive/umojahack-africa-2022-beginner-challenge/train.csv',parse_dates = ['Datetime'])\n",
        "testdata = pd.read_csv('/content/drive/MyDrive/umojahack-africa-2022-beginner-challenge/test.csv',parse_dates = ['Datetime'])\n",
        "submission = pd.read_csv('/content/drive/MyDrive/umojahack-africa-2022-beginner-challenge/SampleSubmission.csv')"
      ],
      "metadata": {
        "id": "aup1pREwKq8-"
      },
      "execution_count": null,
      "outputs": []
    },
    {
      "cell_type": "code",
      "source": [
        "traindata.shape"
      ],
      "metadata": {
        "colab": {
          "base_uri": "https://localhost:8080/"
        },
        "id": "Aj_O1NRgLF2d",
        "outputId": "1af91a4e-46eb-4bc6-cdaa-946792cc8d65"
      },
      "execution_count": null,
      "outputs": [
        {
          "output_type": "execute_result",
          "data": {
            "text/plain": [
              "(297177, 7)"
            ]
          },
          "metadata": {},
          "execution_count": 367
        }
      ]
    },
    {
      "cell_type": "code",
      "source": [
        "traindata.columns"
      ],
      "metadata": {
        "colab": {
          "base_uri": "https://localhost:8080/"
        },
        "id": "ApAltPYyLOyO",
        "outputId": "0bc31f14-79d3-41ba-ff2f-6514ab714511"
      },
      "execution_count": null,
      "outputs": [
        {
          "output_type": "execute_result",
          "data": {
            "text/plain": [
              "Index(['ID', 'Datetime', 'Sensor1_PM2.5', 'Sensor2_PM2.5', 'Temperature',\n",
              "       'Relative_Humidity', 'Offset_fault'],\n",
              "      dtype='object')"
            ]
          },
          "metadata": {},
          "execution_count": 368
        }
      ]
    },
    {
      "cell_type": "code",
      "source": [
        "traindata.info()"
      ],
      "metadata": {
        "colab": {
          "base_uri": "https://localhost:8080/"
        },
        "id": "zq6SOl0cLgGc",
        "outputId": "50fb6ff6-10f9-4c70-9172-dc43610f1b53"
      },
      "execution_count": null,
      "outputs": [
        {
          "output_type": "stream",
          "name": "stdout",
          "text": [
            "<class 'pandas.core.frame.DataFrame'>\n",
            "RangeIndex: 297177 entries, 0 to 297176\n",
            "Data columns (total 7 columns):\n",
            " #   Column             Non-Null Count   Dtype         \n",
            "---  ------             --------------   -----         \n",
            " 0   ID                 297177 non-null  object        \n",
            " 1   Datetime           297177 non-null  datetime64[ns]\n",
            " 2   Sensor1_PM2.5      293563 non-null  float64       \n",
            " 3   Sensor2_PM2.5      293563 non-null  float64       \n",
            " 4   Temperature        293628 non-null  float64       \n",
            " 5   Relative_Humidity  293628 non-null  float64       \n",
            " 6   Offset_fault       297177 non-null  int64         \n",
            "dtypes: datetime64[ns](1), float64(4), int64(1), object(1)\n",
            "memory usage: 15.9+ MB\n"
          ]
        }
      ]
    },
    {
      "cell_type": "code",
      "source": [
        "traindata.describe(include=\"all\")"
      ],
      "metadata": {
        "colab": {
          "base_uri": "https://localhost:8080/",
          "height": 514
        },
        "id": "Q-y-Z7OLLwcN",
        "outputId": "2df2440e-f19f-443b-91a8-5056aba6a0dd"
      },
      "execution_count": null,
      "outputs": [
        {
          "output_type": "stream",
          "name": "stderr",
          "text": [
            "/usr/local/lib/python3.7/dist-packages/ipykernel_launcher.py:1: FutureWarning: Treating datetime data as categorical rather than numeric in `.describe` is deprecated and will be removed in a future version of pandas. Specify `datetime_is_numeric=True` to silence this warning and adopt the future behavior now.\n",
            "  \"\"\"Entry point for launching an IPython kernel.\n"
          ]
        },
        {
          "output_type": "execute_result",
          "data": {
            "text/plain": [
              "                     ID             Datetime  Sensor1_PM2.5  Sensor2_PM2.5  \\\n",
              "count            297177               297177   293563.00000   293563.00000   \n",
              "unique           297177               293751            NaN            NaN   \n",
              "top     ID_QF0ZTQJ2SF5Q  2021-11-26 17:23:00            NaN            NaN   \n",
              "freq                  1                    3            NaN            NaN   \n",
              "first               NaN  2021-10-15 16:00:31            NaN            NaN   \n",
              "last                NaN  2022-01-21 07:34:57            NaN            NaN   \n",
              "mean                NaN                  NaN       40.75120       38.18302   \n",
              "std                 NaN                  NaN       28.52618       28.64776   \n",
              "min                 NaN                  NaN       -9.45000       -9.70000   \n",
              "25%                 NaN                  NaN       22.43000       19.52000   \n",
              "50%                 NaN                  NaN       36.47000       33.72000   \n",
              "75%                 NaN                  NaN       49.42000       47.57000   \n",
              "max                 NaN                  NaN      997.96000      997.26000   \n",
              "\n",
              "        Temperature  Relative_Humidity  Offset_fault  \n",
              "count  293628.00000       293628.00000  297177.00000  \n",
              "unique          NaN                NaN           NaN  \n",
              "top             NaN                NaN           NaN  \n",
              "freq            NaN                NaN           NaN  \n",
              "first           NaN                NaN           NaN  \n",
              "last            NaN                NaN           NaN  \n",
              "mean       23.31655           78.65362       0.37107  \n",
              "std         3.83697           14.77272       0.48309  \n",
              "min        16.70000           27.00000       0.00000  \n",
              "25%        20.40000           68.00000       0.00000  \n",
              "50%        21.90000           84.00000       0.00000  \n",
              "75%        26.30000           91.00000       1.00000  \n",
              "max        34.90000           99.00000       1.00000  "
            ],
            "text/html": [
              "\n",
              "  <div id=\"df-789e4069-708b-4c57-abc6-649d255da472\">\n",
              "    <div class=\"colab-df-container\">\n",
              "      <div>\n",
              "<style scoped>\n",
              "    .dataframe tbody tr th:only-of-type {\n",
              "        vertical-align: middle;\n",
              "    }\n",
              "\n",
              "    .dataframe tbody tr th {\n",
              "        vertical-align: top;\n",
              "    }\n",
              "\n",
              "    .dataframe thead th {\n",
              "        text-align: right;\n",
              "    }\n",
              "</style>\n",
              "<table border=\"1\" class=\"dataframe\">\n",
              "  <thead>\n",
              "    <tr style=\"text-align: right;\">\n",
              "      <th></th>\n",
              "      <th>ID</th>\n",
              "      <th>Datetime</th>\n",
              "      <th>Sensor1_PM2.5</th>\n",
              "      <th>Sensor2_PM2.5</th>\n",
              "      <th>Temperature</th>\n",
              "      <th>Relative_Humidity</th>\n",
              "      <th>Offset_fault</th>\n",
              "    </tr>\n",
              "  </thead>\n",
              "  <tbody>\n",
              "    <tr>\n",
              "      <th>count</th>\n",
              "      <td>297177</td>\n",
              "      <td>297177</td>\n",
              "      <td>293563.00000</td>\n",
              "      <td>293563.00000</td>\n",
              "      <td>293628.00000</td>\n",
              "      <td>293628.00000</td>\n",
              "      <td>297177.00000</td>\n",
              "    </tr>\n",
              "    <tr>\n",
              "      <th>unique</th>\n",
              "      <td>297177</td>\n",
              "      <td>293751</td>\n",
              "      <td>NaN</td>\n",
              "      <td>NaN</td>\n",
              "      <td>NaN</td>\n",
              "      <td>NaN</td>\n",
              "      <td>NaN</td>\n",
              "    </tr>\n",
              "    <tr>\n",
              "      <th>top</th>\n",
              "      <td>ID_QF0ZTQJ2SF5Q</td>\n",
              "      <td>2021-11-26 17:23:00</td>\n",
              "      <td>NaN</td>\n",
              "      <td>NaN</td>\n",
              "      <td>NaN</td>\n",
              "      <td>NaN</td>\n",
              "      <td>NaN</td>\n",
              "    </tr>\n",
              "    <tr>\n",
              "      <th>freq</th>\n",
              "      <td>1</td>\n",
              "      <td>3</td>\n",
              "      <td>NaN</td>\n",
              "      <td>NaN</td>\n",
              "      <td>NaN</td>\n",
              "      <td>NaN</td>\n",
              "      <td>NaN</td>\n",
              "    </tr>\n",
              "    <tr>\n",
              "      <th>first</th>\n",
              "      <td>NaN</td>\n",
              "      <td>2021-10-15 16:00:31</td>\n",
              "      <td>NaN</td>\n",
              "      <td>NaN</td>\n",
              "      <td>NaN</td>\n",
              "      <td>NaN</td>\n",
              "      <td>NaN</td>\n",
              "    </tr>\n",
              "    <tr>\n",
              "      <th>last</th>\n",
              "      <td>NaN</td>\n",
              "      <td>2022-01-21 07:34:57</td>\n",
              "      <td>NaN</td>\n",
              "      <td>NaN</td>\n",
              "      <td>NaN</td>\n",
              "      <td>NaN</td>\n",
              "      <td>NaN</td>\n",
              "    </tr>\n",
              "    <tr>\n",
              "      <th>mean</th>\n",
              "      <td>NaN</td>\n",
              "      <td>NaN</td>\n",
              "      <td>40.75120</td>\n",
              "      <td>38.18302</td>\n",
              "      <td>23.31655</td>\n",
              "      <td>78.65362</td>\n",
              "      <td>0.37107</td>\n",
              "    </tr>\n",
              "    <tr>\n",
              "      <th>std</th>\n",
              "      <td>NaN</td>\n",
              "      <td>NaN</td>\n",
              "      <td>28.52618</td>\n",
              "      <td>28.64776</td>\n",
              "      <td>3.83697</td>\n",
              "      <td>14.77272</td>\n",
              "      <td>0.48309</td>\n",
              "    </tr>\n",
              "    <tr>\n",
              "      <th>min</th>\n",
              "      <td>NaN</td>\n",
              "      <td>NaN</td>\n",
              "      <td>-9.45000</td>\n",
              "      <td>-9.70000</td>\n",
              "      <td>16.70000</td>\n",
              "      <td>27.00000</td>\n",
              "      <td>0.00000</td>\n",
              "    </tr>\n",
              "    <tr>\n",
              "      <th>25%</th>\n",
              "      <td>NaN</td>\n",
              "      <td>NaN</td>\n",
              "      <td>22.43000</td>\n",
              "      <td>19.52000</td>\n",
              "      <td>20.40000</td>\n",
              "      <td>68.00000</td>\n",
              "      <td>0.00000</td>\n",
              "    </tr>\n",
              "    <tr>\n",
              "      <th>50%</th>\n",
              "      <td>NaN</td>\n",
              "      <td>NaN</td>\n",
              "      <td>36.47000</td>\n",
              "      <td>33.72000</td>\n",
              "      <td>21.90000</td>\n",
              "      <td>84.00000</td>\n",
              "      <td>0.00000</td>\n",
              "    </tr>\n",
              "    <tr>\n",
              "      <th>75%</th>\n",
              "      <td>NaN</td>\n",
              "      <td>NaN</td>\n",
              "      <td>49.42000</td>\n",
              "      <td>47.57000</td>\n",
              "      <td>26.30000</td>\n",
              "      <td>91.00000</td>\n",
              "      <td>1.00000</td>\n",
              "    </tr>\n",
              "    <tr>\n",
              "      <th>max</th>\n",
              "      <td>NaN</td>\n",
              "      <td>NaN</td>\n",
              "      <td>997.96000</td>\n",
              "      <td>997.26000</td>\n",
              "      <td>34.90000</td>\n",
              "      <td>99.00000</td>\n",
              "      <td>1.00000</td>\n",
              "    </tr>\n",
              "  </tbody>\n",
              "</table>\n",
              "</div>\n",
              "      <button class=\"colab-df-convert\" onclick=\"convertToInteractive('df-789e4069-708b-4c57-abc6-649d255da472')\"\n",
              "              title=\"Convert this dataframe to an interactive table.\"\n",
              "              style=\"display:none;\">\n",
              "        \n",
              "  <svg xmlns=\"http://www.w3.org/2000/svg\" height=\"24px\"viewBox=\"0 0 24 24\"\n",
              "       width=\"24px\">\n",
              "    <path d=\"M0 0h24v24H0V0z\" fill=\"none\"/>\n",
              "    <path d=\"M18.56 5.44l.94 2.06.94-2.06 2.06-.94-2.06-.94-.94-2.06-.94 2.06-2.06.94zm-11 1L8.5 8.5l.94-2.06 2.06-.94-2.06-.94L8.5 2.5l-.94 2.06-2.06.94zm10 10l.94 2.06.94-2.06 2.06-.94-2.06-.94-.94-2.06-.94 2.06-2.06.94z\"/><path d=\"M17.41 7.96l-1.37-1.37c-.4-.4-.92-.59-1.43-.59-.52 0-1.04.2-1.43.59L10.3 9.45l-7.72 7.72c-.78.78-.78 2.05 0 2.83L4 21.41c.39.39.9.59 1.41.59.51 0 1.02-.2 1.41-.59l7.78-7.78 2.81-2.81c.8-.78.8-2.07 0-2.86zM5.41 20L4 18.59l7.72-7.72 1.47 1.35L5.41 20z\"/>\n",
              "  </svg>\n",
              "      </button>\n",
              "      \n",
              "  <style>\n",
              "    .colab-df-container {\n",
              "      display:flex;\n",
              "      flex-wrap:wrap;\n",
              "      gap: 12px;\n",
              "    }\n",
              "\n",
              "    .colab-df-convert {\n",
              "      background-color: #E8F0FE;\n",
              "      border: none;\n",
              "      border-radius: 50%;\n",
              "      cursor: pointer;\n",
              "      display: none;\n",
              "      fill: #1967D2;\n",
              "      height: 32px;\n",
              "      padding: 0 0 0 0;\n",
              "      width: 32px;\n",
              "    }\n",
              "\n",
              "    .colab-df-convert:hover {\n",
              "      background-color: #E2EBFA;\n",
              "      box-shadow: 0px 1px 2px rgba(60, 64, 67, 0.3), 0px 1px 3px 1px rgba(60, 64, 67, 0.15);\n",
              "      fill: #174EA6;\n",
              "    }\n",
              "\n",
              "    [theme=dark] .colab-df-convert {\n",
              "      background-color: #3B4455;\n",
              "      fill: #D2E3FC;\n",
              "    }\n",
              "\n",
              "    [theme=dark] .colab-df-convert:hover {\n",
              "      background-color: #434B5C;\n",
              "      box-shadow: 0px 1px 3px 1px rgba(0, 0, 0, 0.15);\n",
              "      filter: drop-shadow(0px 1px 2px rgba(0, 0, 0, 0.3));\n",
              "      fill: #FFFFFF;\n",
              "    }\n",
              "  </style>\n",
              "\n",
              "      <script>\n",
              "        const buttonEl =\n",
              "          document.querySelector('#df-789e4069-708b-4c57-abc6-649d255da472 button.colab-df-convert');\n",
              "        buttonEl.style.display =\n",
              "          google.colab.kernel.accessAllowed ? 'block' : 'none';\n",
              "\n",
              "        async function convertToInteractive(key) {\n",
              "          const element = document.querySelector('#df-789e4069-708b-4c57-abc6-649d255da472');\n",
              "          const dataTable =\n",
              "            await google.colab.kernel.invokeFunction('convertToInteractive',\n",
              "                                                     [key], {});\n",
              "          if (!dataTable) return;\n",
              "\n",
              "          const docLinkHtml = 'Like what you see? Visit the ' +\n",
              "            '<a target=\"_blank\" href=https://colab.research.google.com/notebooks/data_table.ipynb>data table notebook</a>'\n",
              "            + ' to learn more about interactive tables.';\n",
              "          element.innerHTML = '';\n",
              "          dataTable['output_type'] = 'display_data';\n",
              "          await google.colab.output.renderOutput(dataTable, element);\n",
              "          const docLink = document.createElement('div');\n",
              "          docLink.innerHTML = docLinkHtml;\n",
              "          element.appendChild(docLink);\n",
              "        }\n",
              "      </script>\n",
              "    </div>\n",
              "  </div>\n",
              "  "
            ]
          },
          "metadata": {},
          "execution_count": 370
        }
      ]
    },
    {
      "cell_type": "code",
      "source": [
        "traindata.isna().sum()"
      ],
      "metadata": {
        "colab": {
          "base_uri": "https://localhost:8080/"
        },
        "id": "p8yZpORcMm1_",
        "outputId": "52799001-7d44-402c-85b0-2f4f2fcab8a3"
      },
      "execution_count": null,
      "outputs": [
        {
          "output_type": "execute_result",
          "data": {
            "text/plain": [
              "ID                      0\n",
              "Datetime                0\n",
              "Sensor1_PM2.5        3614\n",
              "Sensor2_PM2.5        3614\n",
              "Temperature          3549\n",
              "Relative_Humidity    3549\n",
              "Offset_fault            0\n",
              "dtype: int64"
            ]
          },
          "metadata": {},
          "execution_count": 371
        }
      ]
    },
    {
      "cell_type": "code",
      "source": [
        "traindatadf = traindata.copy()\n",
        "traindatadf.head()"
      ],
      "metadata": {
        "colab": {
          "base_uri": "https://localhost:8080/",
          "height": 206
        },
        "id": "oOYTkBe8XefY",
        "outputId": "1a4d6309-4ddd-4fbd-f3b3-f0de0d79b3a2"
      },
      "execution_count": null,
      "outputs": [
        {
          "output_type": "execute_result",
          "data": {
            "text/plain": [
              "                ID            Datetime  Sensor1_PM2.5  Sensor2_PM2.5  \\\n",
              "0  ID_QF0ZTQJ2SF5Q 2021-11-03 04:06:31       52.58000       49.52000   \n",
              "1  ID_4GTK689CNX5S 2021-11-08 18:43:23       35.25000       33.40000   \n",
              "2  ID_DL7VVKW9U7XQ 2021-11-07 09:50:33       19.18000       23.50000   \n",
              "3  ID_6XQOMBXM2DG3 2022-01-01 18:55:15       19.40000       15.48000   \n",
              "4  ID_UQZW9ISJY9QE 2021-11-05 22:23:48       38.30000       34.77000   \n",
              "\n",
              "   Temperature  Relative_Humidity  Offset_fault  \n",
              "0     17.40000           96.00000             0  \n",
              "1     25.00000           75.00000             0  \n",
              "2     24.90000           75.00000             0  \n",
              "3     24.90000           70.00000             0  \n",
              "4     20.90000           89.00000             0  "
            ],
            "text/html": [
              "\n",
              "  <div id=\"df-1c3ffe09-956b-4692-853e-c421d31dabb2\">\n",
              "    <div class=\"colab-df-container\">\n",
              "      <div>\n",
              "<style scoped>\n",
              "    .dataframe tbody tr th:only-of-type {\n",
              "        vertical-align: middle;\n",
              "    }\n",
              "\n",
              "    .dataframe tbody tr th {\n",
              "        vertical-align: top;\n",
              "    }\n",
              "\n",
              "    .dataframe thead th {\n",
              "        text-align: right;\n",
              "    }\n",
              "</style>\n",
              "<table border=\"1\" class=\"dataframe\">\n",
              "  <thead>\n",
              "    <tr style=\"text-align: right;\">\n",
              "      <th></th>\n",
              "      <th>ID</th>\n",
              "      <th>Datetime</th>\n",
              "      <th>Sensor1_PM2.5</th>\n",
              "      <th>Sensor2_PM2.5</th>\n",
              "      <th>Temperature</th>\n",
              "      <th>Relative_Humidity</th>\n",
              "      <th>Offset_fault</th>\n",
              "    </tr>\n",
              "  </thead>\n",
              "  <tbody>\n",
              "    <tr>\n",
              "      <th>0</th>\n",
              "      <td>ID_QF0ZTQJ2SF5Q</td>\n",
              "      <td>2021-11-03 04:06:31</td>\n",
              "      <td>52.58000</td>\n",
              "      <td>49.52000</td>\n",
              "      <td>17.40000</td>\n",
              "      <td>96.00000</td>\n",
              "      <td>0</td>\n",
              "    </tr>\n",
              "    <tr>\n",
              "      <th>1</th>\n",
              "      <td>ID_4GTK689CNX5S</td>\n",
              "      <td>2021-11-08 18:43:23</td>\n",
              "      <td>35.25000</td>\n",
              "      <td>33.40000</td>\n",
              "      <td>25.00000</td>\n",
              "      <td>75.00000</td>\n",
              "      <td>0</td>\n",
              "    </tr>\n",
              "    <tr>\n",
              "      <th>2</th>\n",
              "      <td>ID_DL7VVKW9U7XQ</td>\n",
              "      <td>2021-11-07 09:50:33</td>\n",
              "      <td>19.18000</td>\n",
              "      <td>23.50000</td>\n",
              "      <td>24.90000</td>\n",
              "      <td>75.00000</td>\n",
              "      <td>0</td>\n",
              "    </tr>\n",
              "    <tr>\n",
              "      <th>3</th>\n",
              "      <td>ID_6XQOMBXM2DG3</td>\n",
              "      <td>2022-01-01 18:55:15</td>\n",
              "      <td>19.40000</td>\n",
              "      <td>15.48000</td>\n",
              "      <td>24.90000</td>\n",
              "      <td>70.00000</td>\n",
              "      <td>0</td>\n",
              "    </tr>\n",
              "    <tr>\n",
              "      <th>4</th>\n",
              "      <td>ID_UQZW9ISJY9QE</td>\n",
              "      <td>2021-11-05 22:23:48</td>\n",
              "      <td>38.30000</td>\n",
              "      <td>34.77000</td>\n",
              "      <td>20.90000</td>\n",
              "      <td>89.00000</td>\n",
              "      <td>0</td>\n",
              "    </tr>\n",
              "  </tbody>\n",
              "</table>\n",
              "</div>\n",
              "      <button class=\"colab-df-convert\" onclick=\"convertToInteractive('df-1c3ffe09-956b-4692-853e-c421d31dabb2')\"\n",
              "              title=\"Convert this dataframe to an interactive table.\"\n",
              "              style=\"display:none;\">\n",
              "        \n",
              "  <svg xmlns=\"http://www.w3.org/2000/svg\" height=\"24px\"viewBox=\"0 0 24 24\"\n",
              "       width=\"24px\">\n",
              "    <path d=\"M0 0h24v24H0V0z\" fill=\"none\"/>\n",
              "    <path d=\"M18.56 5.44l.94 2.06.94-2.06 2.06-.94-2.06-.94-.94-2.06-.94 2.06-2.06.94zm-11 1L8.5 8.5l.94-2.06 2.06-.94-2.06-.94L8.5 2.5l-.94 2.06-2.06.94zm10 10l.94 2.06.94-2.06 2.06-.94-2.06-.94-.94-2.06-.94 2.06-2.06.94z\"/><path d=\"M17.41 7.96l-1.37-1.37c-.4-.4-.92-.59-1.43-.59-.52 0-1.04.2-1.43.59L10.3 9.45l-7.72 7.72c-.78.78-.78 2.05 0 2.83L4 21.41c.39.39.9.59 1.41.59.51 0 1.02-.2 1.41-.59l7.78-7.78 2.81-2.81c.8-.78.8-2.07 0-2.86zM5.41 20L4 18.59l7.72-7.72 1.47 1.35L5.41 20z\"/>\n",
              "  </svg>\n",
              "      </button>\n",
              "      \n",
              "  <style>\n",
              "    .colab-df-container {\n",
              "      display:flex;\n",
              "      flex-wrap:wrap;\n",
              "      gap: 12px;\n",
              "    }\n",
              "\n",
              "    .colab-df-convert {\n",
              "      background-color: #E8F0FE;\n",
              "      border: none;\n",
              "      border-radius: 50%;\n",
              "      cursor: pointer;\n",
              "      display: none;\n",
              "      fill: #1967D2;\n",
              "      height: 32px;\n",
              "      padding: 0 0 0 0;\n",
              "      width: 32px;\n",
              "    }\n",
              "\n",
              "    .colab-df-convert:hover {\n",
              "      background-color: #E2EBFA;\n",
              "      box-shadow: 0px 1px 2px rgba(60, 64, 67, 0.3), 0px 1px 3px 1px rgba(60, 64, 67, 0.15);\n",
              "      fill: #174EA6;\n",
              "    }\n",
              "\n",
              "    [theme=dark] .colab-df-convert {\n",
              "      background-color: #3B4455;\n",
              "      fill: #D2E3FC;\n",
              "    }\n",
              "\n",
              "    [theme=dark] .colab-df-convert:hover {\n",
              "      background-color: #434B5C;\n",
              "      box-shadow: 0px 1px 3px 1px rgba(0, 0, 0, 0.15);\n",
              "      filter: drop-shadow(0px 1px 2px rgba(0, 0, 0, 0.3));\n",
              "      fill: #FFFFFF;\n",
              "    }\n",
              "  </style>\n",
              "\n",
              "      <script>\n",
              "        const buttonEl =\n",
              "          document.querySelector('#df-1c3ffe09-956b-4692-853e-c421d31dabb2 button.colab-df-convert');\n",
              "        buttonEl.style.display =\n",
              "          google.colab.kernel.accessAllowed ? 'block' : 'none';\n",
              "\n",
              "        async function convertToInteractive(key) {\n",
              "          const element = document.querySelector('#df-1c3ffe09-956b-4692-853e-c421d31dabb2');\n",
              "          const dataTable =\n",
              "            await google.colab.kernel.invokeFunction('convertToInteractive',\n",
              "                                                     [key], {});\n",
              "          if (!dataTable) return;\n",
              "\n",
              "          const docLinkHtml = 'Like what you see? Visit the ' +\n",
              "            '<a target=\"_blank\" href=https://colab.research.google.com/notebooks/data_table.ipynb>data table notebook</a>'\n",
              "            + ' to learn more about interactive tables.';\n",
              "          element.innerHTML = '';\n",
              "          dataTable['output_type'] = 'display_data';\n",
              "          await google.colab.output.renderOutput(dataTable, element);\n",
              "          const docLink = document.createElement('div');\n",
              "          docLink.innerHTML = docLinkHtml;\n",
              "          element.appendChild(docLink);\n",
              "        }\n",
              "      </script>\n",
              "    </div>\n",
              "  </div>\n",
              "  "
            ]
          },
          "metadata": {},
          "execution_count": 372
        }
      ]
    },
    {
      "cell_type": "code",
      "source": [
        "# replacing missing values in quantity\n",
        "# column with mean of that column\n",
        "traindatadf[\"Temperature\"] = traindatadf[\"Temperature\"].fillna(traindatadf[\"Temperature\"].mean())\n",
        "traindatadf[\"Relative_Humidity\"] = traindatadf[\"Relative_Humidity\"].fillna(traindatadf[\"Relative_Humidity\"].mean())\n",
        "traindatadf[\"Sensor1_PM2.5\"] = traindatadf[\"Sensor1_PM2.5\"].fillna(traindatadf[\"Sensor1_PM2.5\"].mean())\n",
        "traindatadf[\"Sensor2_PM2.5\"] = traindatadf[\"Sensor2_PM2.5\"].fillna(traindatadf[\"Sensor2_PM2.5\"].mean())\n",
        "\n",
        "\n",
        "\n",
        "\n",
        "testdata[\"Temperature\"] = testdata[\"Temperature\"].fillna(testdata[\"Temperature\"].mean())\n",
        "testdata[\"Relative_Humidity\"] = testdata[\"Relative_Humidity\"].fillna(testdata[\"Relative_Humidity\"].mean())\n",
        "testdata[\"Sensor1_PM2.5\"] = testdata[\"Sensor1_PM2.5\"].fillna(testdata[\"Sensor1_PM2.5\"].mean())\n",
        "testdata[\"Sensor2_PM2.5\"] = testdata[\"Sensor2_PM2.5\"].fillna(testdata[\"Sensor2_PM2.5\"].mean())\n",
        "\n",
        "traindatadf['day'] = traindatadf.Datetime.dt.day\n",
        "traindatadf['month'] = traindatadf.Datetime.dt.month\n",
        "traindatadf['year'] = traindatadf.Datetime.dt.year\n",
        "traindatadf['hour'] = traindatadf.Datetime.dt.hour\n",
        "\n",
        "\n",
        "testdata['day'] = testdata.Datetime.dt.day\n",
        "testdata['month'] = testdata.Datetime.dt.month\n",
        "testdata['year'] = testdata.Datetime.dt.year\n",
        "testdata['hour'] = testdata.Datetime.dt.hour\n",
        "\n",
        "\n",
        "\n",
        "\n",
        "testdata = testdata.fillna(0)\n"
      ],
      "metadata": {
        "id": "PWFq1uUOO6R_"
      },
      "execution_count": null,
      "outputs": []
    },
    {
      "cell_type": "code",
      "source": [
        "traindatadf.isna().sum()"
      ],
      "metadata": {
        "colab": {
          "base_uri": "https://localhost:8080/"
        },
        "id": "KcgfxQh1brYQ",
        "outputId": "8f46a248-1362-41f9-8c06-e48c6670e048"
      },
      "execution_count": null,
      "outputs": [
        {
          "output_type": "execute_result",
          "data": {
            "text/plain": [
              "ID                   0\n",
              "Datetime             0\n",
              "Sensor1_PM2.5        0\n",
              "Sensor2_PM2.5        0\n",
              "Temperature          0\n",
              "Relative_Humidity    0\n",
              "Offset_fault         0\n",
              "day                  0\n",
              "month                0\n",
              "year                 0\n",
              "hour                 0\n",
              "dtype: int64"
            ]
          },
          "metadata": {},
          "execution_count": 374
        }
      ]
    },
    {
      "cell_type": "code",
      "source": [
        "\n",
        "#find outliers\n",
        "lowerlimit = traindatadf['Sensor1_PM2.5'].quantile(0.10)\n",
        "\n",
        "traindatadf[traindatadf['Sensor1_PM2.5'] < lowerlimit ]\n",
        "\n",
        "\n",
        "upperlimit = traindatadf['Sensor1_PM2.5'].quantile(0.90)\n",
        "traindatadf[traindatadf['Sensor1_PM2.5'] > upperlimit ]\n",
        "\n",
        "traindataset = traindatadf[(traindatadf['Sensor1_PM2.5'] > lowerlimit) & (traindatadf['Sensor1_PM2.5'] < upperlimit) ]\n",
        "\n",
        "\n",
        "\n",
        "\n",
        "\n",
        "\n",
        "\n",
        "\n",
        "\n"
      ],
      "metadata": {
        "id": "IMgVKKbXKCQe"
      },
      "execution_count": null,
      "outputs": []
    },
    {
      "cell_type": "code",
      "source": [
        ""
      ],
      "metadata": {
        "id": "O8ezmzgr83Sx"
      },
      "execution_count": null,
      "outputs": []
    },
    {
      "cell_type": "code",
      "source": [
        "y =traindatadf['Offset_fault']\n",
        "indvaribales = ['Sensor1_PM2.5','Sensor2_PM2.5','Temperature','Relative_Humidity','month']\n",
        "x =traindatadf[indvaribales].fillna(0)\n",
        "LABELS = [\"normal\", \"faulty\"]"
      ],
      "metadata": {
        "id": "3niU6nEnKG-O"
      },
      "execution_count": null,
      "outputs": []
    },
    {
      "cell_type": "code",
      "source": [
        "count_classes = pd.value_counts(y, sort = True)\n",
        "\n",
        "count_classes.plot(kind = 'bar', rot=0)\n",
        "\n",
        "plt.title(\" Class Distribution\")\n",
        "\n",
        "plt.xticks(range(2), LABELS)\n",
        "\n",
        "plt.xlabel(\"Class\")\n",
        "\n",
        "plt.ylabel(\"Frequency\")"
      ],
      "metadata": {
        "colab": {
          "base_uri": "https://localhost:8080/",
          "height": 314
        },
        "id": "Jeqg9NTSKYJ2",
        "outputId": "3d43c317-c24c-4d73-ad15-a52658219b3f"
      },
      "execution_count": null,
      "outputs": [
        {
          "output_type": "execute_result",
          "data": {
            "text/plain": [
              "Text(0, 0.5, 'Frequency')"
            ]
          },
          "metadata": {},
          "execution_count": 377
        },
        {
          "output_type": "display_data",
          "data": {
            "text/plain": [
              "<Figure size 432x288 with 1 Axes>"
            ],
            "image/png": "[encoded data removed]"
          },
          "metadata": {
            "needs_background": "light"
          }
        }
      ]
    },
    {
      "cell_type": "code",
      "source": [
        "# Implementing Oversampling for Handling Imbalanced \n",
        "from imblearn.over_sampling import SMOTE\n",
        "from imblearn.under_sampling import NearMiss\n",
        "from collections import Counter\n",
        "oversample = SMOTE()\n",
        "x_res, y_res = oversample.fit_resample(x, y)\n",
        "\n",
        "x_res.shape,y_res.shape\n",
        "\n"
      ],
      "metadata": {
        "colab": {
          "base_uri": "https://localhost:8080/"
        },
        "id": "NhMHjOBTmXEQ",
        "outputId": "86963127-1159-48bc-be17-81c04ac07805"
      },
      "execution_count": null,
      "outputs": [
        {
          "output_type": "execute_result",
          "data": {
            "text/plain": [
              "((373806, 5), (373806,))"
            ]
          },
          "metadata": {},
          "execution_count": 378
        }
      ]
    },
    {
      "cell_type": "code",
      "source": [
        "print('Original dataset shape {}'.format(Counter(y)))\n",
        "print('Resampled dataset shape {}'.format(Counter(y_res)))"
      ],
      "metadata": {
        "colab": {
          "base_uri": "https://localhost:8080/"
        },
        "id": "n-YhMizXKtdO",
        "outputId": "ba07a1c6-735f-4356-93a2-280eea0f1ef1"
      },
      "execution_count": null,
      "outputs": [
        {
          "output_type": "stream",
          "name": "stdout",
          "text": [
            "Original dataset shape Counter({0: 186903, 1: 110274})\n",
            "Resampled dataset shape Counter({0: 186903, 1: 186903})\n"
          ]
        }
      ]
    },
    {
      "cell_type": "code",
      "source": [
        ""
      ],
      "metadata": {
        "id": "KO8pF70wcymy"
      },
      "execution_count": null,
      "outputs": []
    },
    {
      "cell_type": "code",
      "source": [
        "from sklearn.metrics import accuracy_score\n",
        "from sklearn.metrics import classification_report\n",
        "x_train, x_test, y_train, y_test = train_test_split(x_res, y_res, test_size=0.33, random_state=42)\n",
        "\n",
        "\n",
        "\n",
        "\n",
        "\n",
        "rfc = RandomForestClassifier()\n",
        "rfc.fit(x_train,y_train)\n",
        "\n",
        "\n",
        "\n",
        "ypred = rfc.predict(x_test)\n",
        "\n",
        "\n",
        "print(f'random forest {rfc.score(x_test,y_test)}')\n",
        "\n",
        "\n"
      ],
      "metadata": {
        "id": "VyxuVUOFFz8S",
        "colab": {
          "base_uri": "https://localhost:8080/"
        },
        "outputId": "85c65a55-351b-46fb-814b-e0ebfb8f5bd5"
      },
      "execution_count": null,
      "outputs": [
        {
          "output_type": "stream",
          "name": "stdout",
          "text": [
            "random forest 0.9613638574532248\n"
          ]
        }
      ]
    },
    {
      "cell_type": "code",
      "source": [
        "testdata.shape "
      ],
      "metadata": {
        "id": "KTIIltQVOLiA",
        "colab": {
          "base_uri": "https://localhost:8080/"
        },
        "outputId": "e667d324-2f6e-48db-e067-f2aed340e0f2"
      },
      "execution_count": null,
      "outputs": [
        {
          "output_type": "execute_result",
          "data": {
            "text/plain": [
              "(127361, 10)"
            ]
          },
          "metadata": {},
          "execution_count": 381
        }
      ]
    },
    {
      "cell_type": "code",
      "source": [
        "import seaborn as sns\n",
        "\n",
        "testdf2 =testdata[indvaribales].fillna(0)\n",
        "testpred = rfc.predict(testdf2)\n",
        "\n",
        "filedf = submission.copy()\n",
        "\n",
        "filedf.Offset_fault =testpred \n",
        "plt.figure(figsize=(8,5))\n",
        "sns.countplot(filedf.Offset_fault)\n",
        "\n",
        "\n"
      ],
      "metadata": {
        "colab": {
          "base_uri": "https://localhost:8080/",
          "height": 410
        },
        "id": "VvbK88OMmnvs",
        "outputId": "a240c9a8-7aab-4c1c-9b29-f3873effd01f"
      },
      "execution_count": null,
      "outputs": [
        {
          "output_type": "stream",
          "name": "stderr",
          "text": [
            "/usr/local/lib/python3.7/dist-packages/seaborn/_decorators.py:43: FutureWarning: Pass the following variable as a keyword arg: x. From version 0.12, the only valid positional argument will be `data`, and passing other arguments without an explicit keyword will result in an error or misinterpretation.\n",
            "  FutureWarning\n"
          ]
        },
        {
          "output_type": "execute_result",
          "data": {
            "text/plain": [
              "<matplotlib.axes._subplots.AxesSubplot at 0x7fb6f3f0d390>"
            ]
          },
          "metadata": {},
          "execution_count": 382
        },
        {
          "output_type": "display_data",
          "data": {
            "text/plain": [
              "<Figure size 576x360 with 1 Axes>"
            ],
            "image/png": "[encoded data removed]"
          },
          "metadata": {
            "needs_background": "light"
          }
        }
      ]
    },
    {
      "cell_type": "code",
      "source": [
        "filedf.to_csv(\"submitcsv3.csv\",index=False)"
      ],
      "metadata": {
        "id": "FLFjO1hXoA3L"
      },
      "execution_count": null,
      "outputs": []
    },
    {
      "cell_type": "code",
      "source": [
        ""
      ],
      "metadata": {
        "id": "4PVzjLKOrgVE"
      },
      "execution_count": null,
      "outputs": []
    }
  ]
}